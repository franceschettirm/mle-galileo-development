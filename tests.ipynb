{
 "cells": [
  {
   "cell_type": "code",
   "execution_count": 1,
   "metadata": {},
   "outputs": [],
   "source": [
    "import numpy as np\n",
    "import pandas as pd\n",
    "import seaborn as sns\n",
    "import matplotlib.pyplot as plt\n",
    "\n",
    "from sklearn.datasets import make_classification\n",
    "from sklearn.pipeline import Pipeline\n",
    "from sklearn.model_selection import train_test_split\n",
    "from sklearn.metrics import roc_auc_score\n",
    "from tqdm import tqdm\n",
    "from lightgbm import LGBMClassifier\n",
    "from category_encoders import CatBoostEncoder\n",
    "\n",
    "from galileo.feature_selection import IterativeFeatureSelection, OneShotFeatureSelection\n",
    "from galileo.assistant import Assistant"
   ]
  },
  {
   "cell_type": "code",
   "execution_count": 2,
   "metadata": {},
   "outputs": [],
   "source": [
    "X, y = make_classification(\n",
    "    n_samples=200_000,\n",
    "    n_features=500,\n",
    "    n_clusters_per_class=1,\n",
    "    n_informative=150,\n",
    "    random_state=42,\n",
    ")\n",
    "\n",
    "df = pd.DataFrame(X, columns=[f\"var_{x}\" for x in range(0, len(X[0]))])\n",
    "df['target'] = y\n",
    "\n"
   ]
  },
  {
   "cell_type": "code",
   "execution_count": 3,
   "metadata": {},
   "outputs": [
    {
     "name": "stdout",
     "output_type": "stream",
     "text": [
      "No duplications found for given keys\n"
     ]
    }
   ],
   "source": [
    "assist = Assistant(dataframe=df)\n",
    "df = assist.check_duplicates(keys=['var_1', 'var_2'])"
   ]
  },
  {
   "cell_type": "code",
   "execution_count": 4,
   "metadata": {},
   "outputs": [],
   "source": [
    "sample = df.sample(n=5_000, random_state=42)\n",
    "\n",
    "X = sample.drop('target', axis=1)\n",
    "y = sample['target']\n",
    "features = X.columns.values\n",
    "\n",
    "X_train, X_test, y_train, y_test = train_test_split(X, y, test_size=0.33, stratify=y)"
   ]
  },
  {
   "cell_type": "code",
   "execution_count": 5,
   "metadata": {},
   "outputs": [],
   "source": [
    "model = Pipeline(\n",
    "            [\n",
    "                (\"encoder\", CatBoostEncoder(random_state=42)),\n",
    "                (\"estimator\", LGBMClassifier(random_state=42, verbosity=-1)),\n",
    "            ]\n",
    ")"
   ]
  },
  {
   "cell_type": "code",
   "execution_count": 6,
   "metadata": {},
   "outputs": [],
   "source": [
    "selector = OneShotFeatureSelection(model, \n",
    "                                    X_train, \n",
    "                                    y_train, \n",
    "                                    X_test, \n",
    "                                    y_test, \n",
    "                                    features, \n",
    "                                    target_name='target',\n",
    "                                    metric='roc_auc')"
   ]
  },
  {
   "cell_type": "code",
   "execution_count": 7,
   "metadata": {},
   "outputs": [
    {
     "name": "stdout",
     "output_type": "stream",
     "text": [
      "Warning: No categorical columns found. Calling 'transform' will only return input data.\n",
      "Number of initial features selected: 130\n",
      "26.0% of total features.\n",
      "Warning: No categorical columns found. Calling 'transform' will only return input data.\n",
      "Warning: No categorical columns found. Calling 'transform' will only return input data.\n",
      "Scores with all features: 0.99\n",
      "Scores with selected features: 0.989\n",
      "Loss is 0.0%\n"
     ]
    }
   ],
   "source": [
    "initial_selection = selector.select_features()"
   ]
  },
  {
   "cell_type": "code",
   "execution_count": 8,
   "metadata": {},
   "outputs": [],
   "source": [
    "selector = IterativeFeatureSelection(model[-1], \n",
    "                                    X_train, \n",
    "                                    y_train, \n",
    "                                    X_test, \n",
    "                                    y_test, \n",
    "                                    initial_selection, \n",
    "                                    target_name='target', \n",
    "                                    threshold=0.02, \n",
    "                                    metric='roc_auc')"
   ]
  },
  {
   "cell_type": "code",
   "execution_count": 9,
   "metadata": {},
   "outputs": [
    {
     "name": "stdout",
     "output_type": "stream",
     "text": [
      "Building score-feature tradeoff curve\n",
      "Fitting model...\n"
     ]
    },
    {
     "name": "stderr",
     "output_type": "stream",
     "text": [
      "100%|██████████| 100/100 [00:32<00:00,  3.12it/s]"
     ]
    },
    {
     "name": "stdout",
     "output_type": "stream",
     "text": [
      "Done!\n",
      "Found a score with a delta of 0.0189\n",
      "Highest score is 0.9894698945666949\n",
      "Optimal % of features is: 56 (73 features)\n",
      "Score for metric roc_auc: 0.970741706770508\n"
     ]
    },
    {
     "name": "stderr",
     "output_type": "stream",
     "text": [
      "\n"
     ]
    },
    {
     "data": {
      "image/png": "[encoded data removed]",
      "text/plain": [
       "<Figure size 1080x360 with 1 Axes>"
      ]
     },
     "metadata": {
      "needs_background": "light"
     },
     "output_type": "display_data"
    }
   ],
   "source": [
    "final_selection = selector.select_features()"
   ]
  }
 ],
 "metadata": {
  "kernelspec": {
   "display_name": "Python 3.9.9 64-bit",
   "language": "python",
   "name": "python3"
  },
  "language_info": {
   "codemirror_mode": {
    "name": "ipython",
    "version": 3
   },
   "file_extension": ".py",
   "mimetype": "text/x-python",
   "name": "python",
   "nbconvert_exporter": "python",
   "pygments_lexer": "ipython3",
   "version": "3.9.9"
  },
  "orig_nbformat": 4,
  "vscode": {
   "interpreter": {
    "hash": "2469a70536e4d2335a2ea8907942d0699c37342a371ac185bdb5b0aa6f073890"
   }
  }
 },
 "nbformat": 4,
 "nbformat_minor": 2
}
